{
 "cells": [
  {
   "cell_type": "code",
   "execution_count": 1,
   "metadata": {},
   "outputs": [],
   "source": [
    "import sys\n",
    "import pprint_ext"
   ]
  },
  {
   "cell_type": "markdown",
   "metadata": {},
   "source": [
    "## Modules\n",
    "\n",
    "A module is a file containing Python definitions and statements. The file name is the module name with the suffix .py appended. - https://docs.python.org/3/tutorial/modules.html#modules"
   ]
  },
  {
   "cell_type": "code",
   "execution_count": 2,
   "metadata": {},
   "outputs": [
    {
     "data": {
      "text/plain": [
       "['__builtins__',\n",
       " '__cached__',\n",
       " '__doc__',\n",
       " '__file__',\n",
       " '__loader__',\n",
       " '__name__',\n",
       " '__package__',\n",
       " '__spec__',\n",
       " 'list_directory',\n",
       " 'os']"
      ]
     },
     "execution_count": 2,
     "metadata": {},
     "output_type": "execute_result"
    }
   ],
   "source": [
    "dir(pprint_ext)"
   ]
  },
  {
   "cell_type": "code",
   "execution_count": 3,
   "metadata": {
    "scrolled": true
   },
   "outputs": [
    {
     "name": "stdout",
     "output_type": "stream",
     "text": [
      "./\n",
      "    pprint_ext.py\n",
      "    modes-and-packages.ipynb\n",
      "    requirements.txt\n",
      "    README.md\n",
      "    environment.yml\n",
      "    LICENSE\n",
      "    .gitignore\n",
      "    __pycache__/\n",
      "        pprint_ext.cpython-36.pyc\n",
      "    .ipynb_checkpoints/\n",
      "        modes-and-packages-checkpoint.ipynb\n",
      "    .git/\n",
      "        description\n",
      "        packed-refs\n",
      "        index\n",
      "        HEAD\n",
      "        config\n",
      "        hooks/\n",
      "            pre-rebase.sample\n",
      "            pre-commit.sample\n",
      "            prepare-commit-msg.sample\n",
      "            commit-msg.sample\n",
      "            pre-receive.sample\n",
      "            update.sample\n",
      "            applypatch-msg.sample\n",
      "            fsmonitor-watchman.sample\n",
      "            pre-push.sample\n",
      "            pre-applypatch.sample\n",
      "            post-update.sample\n",
      "        refs/\n",
      "            heads/\n",
      "                master\n",
      "            tags/\n",
      "            remotes/\n",
      "                origin/\n",
      "                    HEAD\n",
      "        logs/\n",
      "            HEAD\n",
      "            refs/\n",
      "                heads/\n",
      "                    master\n",
      "                remotes/\n",
      "                    origin/\n",
      "                        HEAD\n",
      "        branches/\n",
      "        info/\n",
      "            exclude\n",
      "        objects/\n",
      "            bf/\n",
      "                088c860a00644fab85b6ccc4a03b6fda1282a2\n",
      "            pack/\n",
      "                pack-eac29449ac8084e82da375c9b99075269b4a4f91.pack\n",
      "                pack-eac29449ac8084e82da375c9b99075269b4a4f91.idx\n",
      "            e6/\n",
      "                9de29bb2d1d6434b8b29ae775ad8c2e48c5391\n",
      "            01/\n",
      "                c10b25b30536ce51dd9b5d827ca16f8237e65a\n",
      "            info/\n",
      "    .hidden/\n",
      "        .folder/\n",
      "    pprint_extension/\n",
      "        network.py\n",
      "        file_system.py\n",
      "        __init__.py\n",
      "        __pycache__/\n",
      "            file_system.cpython-36.pyc\n",
      "            __init__.cpython-36.pyc\n",
      "            network.cpython-36.pyc\n",
      "    .idea/\n",
      "        workspace.xml\n",
      "        misc.xml\n",
      "        modules.xml\n",
      "        modules-and-packages-into.iml\n",
      "        vcs.xml\n"
     ]
    }
   ],
   "source": [
    "pprint_ext.list_directory(\".\")"
   ]
  },
  {
   "cell_type": "markdown",
   "metadata": {},
   "source": [
    "## Packages\n",
    "\n",
    "Python packages are a way of structuring Python’s module namespace by using “dotted module names”. - https://docs.python.org/3/tutorial/modules.html#packages"
   ]
  },
  {
   "cell_type": "code",
   "execution_count": 4,
   "metadata": {},
   "outputs": [],
   "source": [
    "import pprint_extension\n",
    "from pprint_extension import file_system"
   ]
  },
  {
   "cell_type": "code",
   "execution_count": 5,
   "metadata": {},
   "outputs": [
    {
     "name": "stdout",
     "output_type": "stream",
     "text": [
      "Help on package pprint_extension:\n",
      "\n",
      "NAME\n",
      "    pprint_extension\n",
      "\n",
      "DESCRIPTION\n",
      "    A package providing functions to pretty print structures that may have alternative renderings from the standard\n",
      "    pprint package.\n",
      "\n",
      "PACKAGE CONTENTS\n",
      "    file_system\n",
      "    network\n",
      "\n",
      "DATA\n",
      "    __all__ = ['file_system']\n",
      "\n",
      "FILE\n",
      "    /home/alex/projects/modules-and-packages-into/pprint_extension/__init__.py\n",
      "\n",
      "\n"
     ]
    }
   ],
   "source": [
    "help(pprint_extension)"
   ]
  },
  {
   "cell_type": "code",
   "execution_count": 6,
   "metadata": {},
   "outputs": [
    {
     "data": {
      "text/plain": [
       "['__builtins__',\n",
       " '__cached__',\n",
       " '__doc__',\n",
       " '__file__',\n",
       " '__loader__',\n",
       " '__name__',\n",
       " '__package__',\n",
       " '__spec__',\n",
       " 'reference_urls']"
      ]
     },
     "execution_count": 6,
     "metadata": {},
     "output_type": "execute_result"
    }
   ],
   "source": [
    "dir(pprint_extension.network)"
   ]
  },
  {
   "cell_type": "code",
   "execution_count": 7,
   "metadata": {},
   "outputs": [
    {
     "data": {
      "text/plain": [
       "['__builtins__',\n",
       " '__cached__',\n",
       " '__doc__',\n",
       " '__file__',\n",
       " '__loader__',\n",
       " '__name__',\n",
       " '__package__',\n",
       " '__spec__',\n",
       " 'list_directory',\n",
       " 'list_hidden_directory',\n",
       " 'os']"
      ]
     },
     "execution_count": 7,
     "metadata": {},
     "output_type": "execute_result"
    }
   ],
   "source": [
    "dir(file_system)"
   ]
  },
  {
   "cell_type": "code",
   "execution_count": 8,
   "metadata": {
    "scrolled": true
   },
   "outputs": [
    {
     "name": "stdout",
     "output_type": "stream",
     "text": [
      "./\n",
      "    .ipynb_checkpoints/\n",
      "    .git/\n",
      "    .hidden/\n",
      "        .folder/\n",
      "    .idea/\n"
     ]
    }
   ],
   "source": [
    "file_system.list_hidden_directory()"
   ]
  },
  {
   "cell_type": "code",
   "execution_count": 9,
   "metadata": {},
   "outputs": [
    {
     "data": {
      "text/plain": [
       "['',\n",
       " '/home/alex/projects/modules-and-packages-into',\n",
       " '/home/alex/miniconda3/envs/modules-and-packages-into/lib/python36.zip',\n",
       " '/home/alex/miniconda3/envs/modules-and-packages-into/lib/python3.6',\n",
       " '/home/alex/miniconda3/envs/modules-and-packages-into/lib/python3.6/lib-dynload',\n",
       " '/home/alex/miniconda3/envs/modules-and-packages-into/lib/python3.6/site-packages',\n",
       " '/home/alex/.local/share/JetBrains/Toolbox/apps/PyCharm-P/ch-0/183.2635.19/helpers/pycharm_matplotlib_backend',\n",
       " '/home/alex/miniconda3/envs/modules-and-packages-into/lib/python3.6/site-packages/IPython/extensions',\n",
       " '/home/alex/.ipython']"
      ]
     },
     "execution_count": 9,
     "metadata": {},
     "output_type": "execute_result"
    }
   ],
   "source": [
    "sys.path"
   ]
  },
  {
   "cell_type": "markdown",
   "metadata": {},
   "source": [
    "## Additional Reading\n",
    "\n",
    "https://docs.python.org/3/tutorial/modules.html\n",
    "\n",
    "https://packaging.python.org/guides/packaging-namespace-packages/\n",
    "\n",
    "https://realpython.com/python-modules-packages/"
   ]
  },
  {
   "cell_type": "code",
   "execution_count": null,
   "metadata": {},
   "outputs": [],
   "source": []
  }
 ],
 "metadata": {
  "kernelspec": {
   "display_name": "Python 3",
   "language": "python",
   "name": "python3"
  },
  "language_info": {
   "codemirror_mode": {
    "name": "ipython",
    "version": 3
   },
   "file_extension": ".py",
   "mimetype": "text/x-python",
   "name": "python",
   "nbconvert_exporter": "python",
   "pygments_lexer": "ipython3",
   "version": "3.6.6"
  }
 },
 "nbformat": 4,
 "nbformat_minor": 1
}
